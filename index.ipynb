{
 "cells": [
  {
   "cell_type": "markdown",
   "metadata": {},
   "source": [
    "# Project: Analyzing Macbeth\n",
    "\n",
    "## Introduction\n",
    "Now we're going to do some rudimentry analysis of Shakespeare's classic play: Macbeth! You will get practice working with lists, condtionals and dictionaries, visualizing data, and thinking analytically about data.\n",
    "\n",
    "## Objectives\n",
    "You will be able to:\n",
    "* Show mastery of the content covered in this section\n",
    "\n",
    "## Getting the Data\n",
    "Here we start by importing a python package and using it to pull the transcript of Macbeth from the project Gutenberg website. We also preview a few details about what is now stored in the variable macbeth; it's a string with 119,846 characters, the first 500 of which are printed below. "
   ]
  },
  {
   "cell_type": "code",
   "execution_count": 83,
   "metadata": {},
   "outputs": [
    {
     "name": "stdout",
     "output_type": "stream",
     "text": [
      "<class 'str'>\n",
      "120253\n",
      "﻿\r\n",
      "\r\n",
      "***The Project Gutenberg's Etext of Shakespeare's First Folio***\r\n",
      "********************The Tragedie of Macbeth*********************\r\n",
      "\r\n",
      "\r\n",
      "\r\n",
      "*******************************************************************\r\n",
      "THIS EBOOK WAS ONE OF PROJECT GUTENBERG'S EARLY FILES PRODUCED AT A\r\n",
      "TIME WHEN PROOFING METHODS AND TOOLS WERE NOT WELL DEVELOPED. THERE\r\n",
      "IS AN IMPROVED EDITION OF THIS TITLE WHICH MAY BE VIEWED AS EBOOK\r\n",
      "(#1533) at https://www.gutenberg.org/ebooks/1533\r\n",
      "*********************************\n"
     ]
    }
   ],
   "source": [
    "import requests\n",
    "macbeth = requests.get('http://www.gutenberg.org/cache/epub/2264/pg2264.txt').text\n",
    "from collections import OrderedDict\n",
    "\n",
    "print(type(macbeth))\n",
    "print(len(macbeth))\n",
    "print(macbeth[:500])"
   ]
  },
  {
   "cell_type": "markdown",
   "metadata": {},
   "source": [
    "## Your Task\n",
    "\n",
    "Your task is to create a bar graph of the 25 most common words in Shakespeare's Macbeth.  \n",
    "\n",
    "\n",
    "A common python programming pattern to counting objects, produce histograms, or update statistics is to make calls to a dictionary as you iterate through a list. For example, given a list of words, you can create a dictionary to store counts and then iterate through the list of words, checking how many times each word has appeared using your dictionary, and updating the dictionary count now that you've seen that word again. The `dictionary.get()` method is very useful in doing this. Read the docstring for the dictionary.get() method and use it along with the pseudocode above to create a bar graph of the 25 most common words from the transcript of Macbeth which has been loaded into a variable 'Macbeth'. Be sure to include a title and appropriate labels for your graph."
   ]
  },
  {
   "cell_type": "code",
   "execution_count": 140,
   "metadata": {},
   "outputs": [],
   "source": [
    "# Pseudo-code Outline\n",
    "# Split the transcript into words\n",
    "# Create a dictionary\n",
    "# Iterate through the text of Macbeth\n",
    "# Update word counts\n",
    "# Create Bar Graph\n",
    "# Include descriptive titles and labels\n",
    "\n",
    "macbeth_words = macbeth.split('David Reed') #removing the introduction written by David Reed\n",
    "macbeth_play = macbeth_words[1]\n",
    "macbeth_play = macbeth_play.lower()\n",
    "\n",
    "macbeth_play_words = []\n",
    "for word in macbeth_play: #splitting the transcript into words\n",
    "    macbeth_play_words = macbeth_play.split()\n",
    "\n",
    "unique_macbeth_play_words = set(macbeth_play_words) #how many unique words are there in macbeth?\n",
    "number_unique_words_macbeth_play = len(unique_macbeth_play_words)\n",
    "number_words_macbeth_play = len(macbeth_play_words)\n",
    "\n",
    "macbeth_word_count_dict = dict((unique_word, macbeth_play_words.count(unique_word)) \n",
    "                           for unique_word in macbeth_play_words) #create a dictionary and update word counts\n",
    "macbeth_word_count_dict_sorted = sorted(macbeth_word_count_dict.items(), key=lambda x:x[1], reverse=True)\n",
    "macbeth_top25 = macbeth_word_count_dict_sorted[:25] #shorten dictionary to top 25 entries, unfortunately converts to list\n",
    "\n",
    "i = 0\n",
    "j = 0\n",
    "k = 1\n",
    "macbeth_top25_clean_keys = []\n",
    "macbeth_top25_clean_values = []\n",
    "for place01 in macbeth_top25: #cleaning up the very ugly data set\n",
    "    macbeth_1 = macbeth_top25[i]\n",
    "    macbeth_1_word = str(macbeth_1)\n",
    "    macbeth_1_spl = macbeth_1_word.split(',')\n",
    "    macbeth_1_spl_r1 = macbeth_1_spl[j].replace('(','')\n",
    "    macbeth_1_spl_r2 = macbeth_1_spl_r1.replace(\"'\", '')\n",
    "    macbeth_top25_clean_keys.append(macbeth_1_spl_r2)\n",
    "    macbeth_1_spl_r3 = macbeth_1_spl[k].replace(')', '')\n",
    "    macbeth_1_spl_r4 = macbeth_1_spl_r3.replace(' ', '')\n",
    "    macbeth_1_spl_r4 = int(macbeth_1_spl_r4)\n",
    "    macbeth_top25_clean_values.append(macbeth_1_spl_r4)\n",
    "    i += 1\n",
    "macbeth_top25_dict = dict(zip(macbeth_top25_clean_keys, macbeth_top25_clean_values)) #top 25 words dictionary\n",
    "\n",
    "import numpy as np\n",
    "import matplotlib.pyplot as plt\n",
    "\n",
    "plt.figure(figsize=(24,15)) #creating bar graph\n",
    "\n",
    "y = macbeth_top25_clean_values #values for bar graph\n",
    "x = macbeth_top25_clean_keys\n",
    "\n",
    "plt.bar(x, y, label = 'Occurances') #with descriptive titles and labels\n",
    "plt.xlabel('Word')\n",
    "plt.ylabel('# Times Used')\n",
    "plt.title(\"Top 25 Words Used in Macbeth\")\n",
    "plt.legend()\n",
    "plt.show()"
   ]
  },
  {
   "cell_type": "code",
   "execution_count": 158,
   "metadata": {},
   "outputs": [
    {
     "data": {
      "image/png": "[encoded data removed]",
      "text/plain": [
       "<Figure size 1728x1080 with 1 Axes>"
      ]
     },
     "metadata": {
      "needs_background": "light"
     },
     "output_type": "display_data"
    }
   ],
   "source": [
    "import numpy as np\n",
    "import matplotlib.pyplot as plt\n",
    "\n",
    "plt.figure(figsize=(24,15))\n",
    "\n",
    "y = macbeth_top25_clean_values\n",
    "x = macbeth_top25_clean_keys\n",
    "plt.bar(x, y, label = 'Occurances')\n",
    "plt.xlabel('Word')\n",
    "plt.ylabel('# Times Used')\n",
    "\n",
    "plt.title(\"Top 25 Words Used in Macbeth\")\n",
    "plt.legend()\n",
    "plt.show()"
   ]
  },
  {
   "cell_type": "markdown",
   "metadata": {},
   "source": [
    "## Level Up (Optional)\n",
    "This project should take you about an hour and a half to complete. If you're done much more quickly than that and are not behind in the course, feel free to deepen your knowledge by completing any or all of the following tasks until you run out of time:\n",
    "* Create a list of top characters by mentions of their names \n",
    "* Split the text by which character is talking\n",
    "* Create subgraphs of the most common words by character\n",
    "* Reduce the string to the text of the play itself. (Remove any initial notes, forward, introduction, appendix, etc.)\n",
    "* Come up with some other fun analyses of the text!\n",
    "\n",
    "## Summary\n",
    "Congratulations! You've got some extra practice combining various data types into useful programming patterns and done an initial analysis of a classic text!"
   ]
  }
 ],
 "metadata": {
  "kernelspec": {
   "display_name": "learn-env",
   "language": "python",
   "name": "learn-env"
  },
  "language_info": {
   "codemirror_mode": {
    "name": "ipython",
    "version": 3
   },
   "file_extension": ".py",
   "mimetype": "text/x-python",
   "name": "python",
   "nbconvert_exporter": "python",
   "pygments_lexer": "ipython3",
   "version": "3.6.6"
  }
 },
 "nbformat": 4,
 "nbformat_minor": 2
}
